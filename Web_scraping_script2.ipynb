{
  "nbformat": 4,
  "nbformat_minor": 0,
  "metadata": {
    "colab": {
      "name": "Web scraping script2",
      "provenance": [],
      "collapsed_sections": [],
      "authorship_tag": "ABX9TyMyh6CsvUfkn4F68vmalQdz",
      "include_colab_link": true
    },
    "kernelspec": {
      "name": "python3",
      "display_name": "Python 3"
    }
  },
  "cells": [
    {
      "cell_type": "markdown",
      "metadata": {
        "id": "view-in-github",
        "colab_type": "text"
      },
      "source": [
        "<a href=\"https://colab.research.google.com/github/aramadan-ml/Web-scraping-script/blob/main/Web_scraping_script2.ipynb\" target=\"_parent\"><img src=\"https://colab.research.google.com/assets/colab-badge.svg\" alt=\"Open In Colab\"/></a>"
      ]
    },
    {
      "cell_type": "code",
      "metadata": {
        "colab": {
          "base_uri": "https://localhost:8080/"
        },
        "id": "SWiRhhNHwOz9",
        "outputId": "04f38faa-5093-4d7d-a02a-dcba95e21cc5"
      },
      "source": [
        "import requests\n",
        "import urllib.request\n",
        "import time\n",
        "from bs4 import BeautifulSoup\n",
        "import json\n",
        "import csv\n",
        "filecsv = open('SouqDataapple.csv', 'w',encoding='utf8')\n",
        "# Set the URL you want to webscrape from\n",
        "url = 'https://saudi.souq.com/sa-ar/apple/new/a-c/s/?section=2&page='\n",
        "file = open('SouqDataapple.json','w',encoding='utf8')\n",
        "file.write('[\\n')\n",
        "data = {}\n",
        "csv_columns = ['name','price','img']\n",
        "for page in range(10):\n",
        "    print('---', page, '---')\n",
        "    r = requests.get(url + str(page))\n",
        "    print(url + str(page))\n",
        "    soup = BeautifulSoup(r.content, \"html.parser\")\n",
        "    ancher=soup.find_all('div',{'class' : 'column column-block block-grid-large single-item'})\n",
        "    writer = csv.DictWriter(filecsv, fieldnames=csv_columns)\n",
        "    i=0\n",
        "    writer.writeheader()\n",
        "    for pt in  ancher:\n",
        "        name=pt.find('h6', {'class' : 'title itemTitle'})\n",
        "        itemPrice=pt.find('span', {'class' : 'itemPrice'})\n",
        "        img=pt.find('img', {'class' : 'img-size-medium'})\n",
        "        \n",
        "        if img:      \n",
        "            writer.writerow({'name': name.text.replace('                    ', '').strip('\\r\\n'), 'price': itemPrice.text, 'img': img.get('src')})\n",
        "            data['name'] =name.text.replace('                    ', '').strip('\\r\\n')\n",
        "            data['price'] =itemPrice.text\n",
        "            data['img'] =img.get('src')\n",
        "            json_data = json.dumps(data,ensure_ascii=False)\n",
        "            file.write(json_data)\n",
        "            file.write(\",\\n\")             \n",
        "file.write(\"\\n]\")\n",
        "filecsv.close()\n",
        "file.close()"
      ],
      "execution_count": null,
      "outputs": [
        {
          "output_type": "stream",
          "text": [
            "--- 0 ---\n",
            "https://saudi.souq.com/sa-ar/apple/new/a-c/s/?section=2&page=0\n",
            "--- 1 ---\n",
            "https://saudi.souq.com/sa-ar/apple/new/a-c/s/?section=2&page=1\n",
            "--- 2 ---\n",
            "https://saudi.souq.com/sa-ar/apple/new/a-c/s/?section=2&page=2\n",
            "--- 3 ---\n",
            "https://saudi.souq.com/sa-ar/apple/new/a-c/s/?section=2&page=3\n",
            "--- 4 ---\n",
            "https://saudi.souq.com/sa-ar/apple/new/a-c/s/?section=2&page=4\n",
            "--- 5 ---\n",
            "https://saudi.souq.com/sa-ar/apple/new/a-c/s/?section=2&page=5\n",
            "--- 6 ---\n",
            "https://saudi.souq.com/sa-ar/apple/new/a-c/s/?section=2&page=6\n",
            "--- 7 ---\n",
            "https://saudi.souq.com/sa-ar/apple/new/a-c/s/?section=2&page=7\n",
            "--- 8 ---\n",
            "https://saudi.souq.com/sa-ar/apple/new/a-c/s/?section=2&page=8\n",
            "--- 9 ---\n",
            "https://saudi.souq.com/sa-ar/apple/new/a-c/s/?section=2&page=9\n"
          ],
          "name": "stdout"
        }
      ]
    }
  ]
}