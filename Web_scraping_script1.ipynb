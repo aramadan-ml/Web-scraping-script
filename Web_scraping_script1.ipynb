{
  "nbformat": 4,
  "nbformat_minor": 0,
  "metadata": {
    "colab": {
      "name": "Web scraping script1",
      "provenance": [],
      "authorship_tag": "ABX9TyP9IOIh/LH+pSAl2zGhCkSH",
      "include_colab_link": true
    },
    "kernelspec": {
      "name": "python3",
      "display_name": "Python 3"
    }
  },
  "cells": [
    {
      "cell_type": "markdown",
      "metadata": {
        "id": "view-in-github",
        "colab_type": "text"
      },
      "source": [
        "<a href=\"https://colab.research.google.com/github/aramadan-ml/Web-scraping-script/blob/main/Web_scraping_script1.ipynb\" target=\"_parent\"><img src=\"https://colab.research.google.com/assets/colab-badge.svg\" alt=\"Open In Colab\"/></a>"
      ]
    },
    {
      "cell_type": "code",
      "metadata": {
        "id": "1T_n1QqA1aTq"
      },
      "source": [
        "import requests\n",
        "from bs4 import BeautifulSoup\n",
        "from csv import writer\n",
        "\n",
        "response = requests.get('https://www.sultan-center.com/fresh-food.html/fruit-veg.html')\n",
        "\n",
        "soup = BeautifulSoup(response.text,'html.parser')\n",
        "\n",
        "products = soup.findAll(class_='item product product-item')\n",
        "\n",
        "with open('products.csv','w') as csv_file:\n",
        "    csv_writer = writer(csv_file)\n",
        "    headers = ['Title','image Link','measurement']\n",
        "    csv_writer.writerow(headers)\n",
        "\n",
        "    for product in products:\n",
        "        title = product.find(class_='product-item-link').get_text().replace('\\n','')\n",
        "        image_link = product.find(class_='product-image-wrapper').find('img')['src']\n",
        "        measurement = product.find(class_='product_measurement').find('span').get_text().replace('\\n','')\n",
        "        csv_writer.writerow([title,image_link,measurement])"
      ],
      "execution_count": null,
      "outputs": []
    }
  ]
}